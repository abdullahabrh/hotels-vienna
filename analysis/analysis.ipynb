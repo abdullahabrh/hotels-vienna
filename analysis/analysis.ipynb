{
 "cells": [
  {
   "cell_type": "markdown",
   "id": "3f197aa2",
   "metadata": {},
   "source": [
    "## Analysis: Hotels in Vienna\n"
   ]
  },
  {
   "cell_type": "markdown",
   "id": "07412455",
   "metadata": {},
   "source": [
    "This mini project explores the relationship between hotel characteristics and prices in Vienna. \n",
    "Two relationships are analyzed: (1) between price and rating, and (2) between price and distance from the city center.\n"
   ]
  },
  {
   "cell_type": "code",
   "execution_count": 1,
   "id": "b0d63a5a",
   "metadata": {},
   "outputs": [],
   "source": [
    "#Importing necessary libraries\n",
    "import pandas as pd\n",
    "import numpy as np\n",
    "import seaborn as sns\n",
    "import matplotlib.pyplot as plt"
   ]
  },
  {
   "cell_type": "code",
   "execution_count": 2,
   "id": "c2814ece",
   "metadata": {},
   "outputs": [
    {
     "data": {
      "text/plain": [
       "'c:\\\\Users\\\\dcccddtcccccccc\\\\Desktop\\\\hotels-vienna\\\\analysis'"
      ]
     },
     "execution_count": 2,
     "metadata": {},
     "output_type": "execute_result"
    }
   ],
   "source": [
    "%pwd"
   ]
  },
  {
   "cell_type": "code",
   "execution_count": 3,
   "id": "4175b654",
   "metadata": {},
   "outputs": [],
   "source": [
    "##Loading the dataset\n",
    "df = pd.read_csv('../data/hotelbookingdata-vienna.csv')"
   ]
  },
  {
   "cell_type": "code",
   "execution_count": 4,
   "id": "268b7ce9",
   "metadata": {},
   "outputs": [
    {
     "data": {
      "application/vnd.microsoft.datawrangler.viewer.v0+json": {
       "columns": [
        {
         "name": "index",
         "rawType": "int64",
         "type": "integer"
        },
        {
         "name": "addresscountryname",
         "rawType": "object",
         "type": "string"
        },
        {
         "name": "city_actual",
         "rawType": "object",
         "type": "string"
        },
        {
         "name": "rating_reviewcount",
         "rawType": "float64",
         "type": "float"
        },
        {
         "name": "center1distance",
         "rawType": "object",
         "type": "string"
        },
        {
         "name": "center1label",
         "rawType": "object",
         "type": "string"
        },
        {
         "name": "center2distance",
         "rawType": "object",
         "type": "string"
        },
        {
         "name": "center2label",
         "rawType": "object",
         "type": "string"
        },
        {
         "name": "neighbourhood",
         "rawType": "object",
         "type": "string"
        },
        {
         "name": "price",
         "rawType": "int64",
         "type": "integer"
        },
        {
         "name": "price_night",
         "rawType": "object",
         "type": "string"
        },
        {
         "name": "s_city",
         "rawType": "object",
         "type": "string"
        },
        {
         "name": "starrating",
         "rawType": "float64",
         "type": "float"
        },
        {
         "name": "rating2_ta",
         "rawType": "float64",
         "type": "float"
        },
        {
         "name": "rating2_ta_reviewcount",
         "rawType": "float64",
         "type": "float"
        },
        {
         "name": "accommodationtype",
         "rawType": "object",
         "type": "string"
        },
        {
         "name": "guestreviewsrating",
         "rawType": "object",
         "type": "string"
        },
        {
         "name": "scarce_room",
         "rawType": "int64",
         "type": "integer"
        },
        {
         "name": "hotel_id",
         "rawType": "int64",
         "type": "integer"
        },
        {
         "name": "offer",
         "rawType": "int64",
         "type": "integer"
        },
        {
         "name": "offer_cat",
         "rawType": "object",
         "type": "string"
        },
        {
         "name": "year",
         "rawType": "int64",
         "type": "integer"
        },
        {
         "name": "month",
         "rawType": "int64",
         "type": "integer"
        },
        {
         "name": "weekend",
         "rawType": "int64",
         "type": "integer"
        },
        {
         "name": "holiday",
         "rawType": "int64",
         "type": "integer"
        }
       ],
       "ref": "e12b098d-d28e-4537-ae7a-99a691fe0193",
       "rows": [
        [
         "0",
         "Austria",
         "Vienna",
         "36.0",
         "2.7 miles",
         "City centre",
         "4.4 miles",
         "Donauturm",
         "17. Hernals",
         "81",
         "price for 1 night",
         "Vienna",
         "4.0",
         "4.5",
         "216.0",
         "_ACCOM_TYPE@Apartment",
         "4.4 /5",
         "1",
         "21894",
         "1",
         "15-50% offer",
         "2017",
         "11",
         "0",
         "0"
        ],
        [
         "1",
         "Austria",
         "Vienna",
         "189.0",
         "1.7 miles",
         "City centre",
         "3.8 miles",
         "Donauturm",
         "17. Hernals",
         "81",
         "price for 1 night",
         "Vienna",
         "4.0",
         "3.5",
         "708.0",
         "_ACCOM_TYPE@Hotel",
         "3.9 /5",
         "0",
         "21897",
         "1",
         "1-15% offer",
         "2017",
         "11",
         "0",
         "0"
        ],
        [
         "2",
         "Austria",
         "Vienna",
         "53.0",
         "1.4 miles",
         "City centre",
         "2.5 miles",
         "Donauturm",
         "Alsergrund",
         "85",
         "price for 1 night",
         "Vienna",
         "4.0",
         "3.5",
         "629.0",
         "_ACCOM_TYPE@Hotel",
         "3.7 /5",
         "0",
         "21901",
         "1",
         "15-50% offer",
         "2017",
         "11",
         "0",
         "0"
        ],
        [
         "3",
         "Austria",
         "Vienna",
         "55.0",
         "1.7 miles",
         "City centre",
         "2.5 miles",
         "Donauturm",
         "Alsergrund",
         "83",
         "price for 1 night",
         "Vienna",
         "3.0",
         "4.0",
         "52.0",
         "_ACCOM_TYPE@Hotel",
         "5-Apr",
         "0",
         "21902",
         "1",
         "15-50% offer",
         "2017",
         "11",
         "0",
         "0"
        ],
        [
         "4",
         "Austria",
         "Vienna",
         "33.0",
         "1.2 miles",
         "City centre",
         "2.8 miles",
         "Donauturm",
         "Alsergrund",
         "82",
         "price for 1 night",
         "Vienna",
         "4.0",
         "3.5",
         "219.0",
         "_ACCOM_TYPE@Hotel",
         "3.9 /5",
         "1",
         "21903",
         "1",
         "15-50% offer",
         "2017",
         "11",
         "0",
         "0"
        ]
       ],
       "shape": {
        "columns": 24,
        "rows": 5
       }
      },
      "text/html": [
       "<div>\n",
       "<style scoped>\n",
       "    .dataframe tbody tr th:only-of-type {\n",
       "        vertical-align: middle;\n",
       "    }\n",
       "\n",
       "    .dataframe tbody tr th {\n",
       "        vertical-align: top;\n",
       "    }\n",
       "\n",
       "    .dataframe thead th {\n",
       "        text-align: right;\n",
       "    }\n",
       "</style>\n",
       "<table border=\"1\" class=\"dataframe\">\n",
       "  <thead>\n",
       "    <tr style=\"text-align: right;\">\n",
       "      <th></th>\n",
       "      <th>addresscountryname</th>\n",
       "      <th>city_actual</th>\n",
       "      <th>rating_reviewcount</th>\n",
       "      <th>center1distance</th>\n",
       "      <th>center1label</th>\n",
       "      <th>center2distance</th>\n",
       "      <th>center2label</th>\n",
       "      <th>neighbourhood</th>\n",
       "      <th>price</th>\n",
       "      <th>price_night</th>\n",
       "      <th>...</th>\n",
       "      <th>accommodationtype</th>\n",
       "      <th>guestreviewsrating</th>\n",
       "      <th>scarce_room</th>\n",
       "      <th>hotel_id</th>\n",
       "      <th>offer</th>\n",
       "      <th>offer_cat</th>\n",
       "      <th>year</th>\n",
       "      <th>month</th>\n",
       "      <th>weekend</th>\n",
       "      <th>holiday</th>\n",
       "    </tr>\n",
       "  </thead>\n",
       "  <tbody>\n",
       "    <tr>\n",
       "      <th>0</th>\n",
       "      <td>Austria</td>\n",
       "      <td>Vienna</td>\n",
       "      <td>36.0</td>\n",
       "      <td>2.7 miles</td>\n",
       "      <td>City centre</td>\n",
       "      <td>4.4 miles</td>\n",
       "      <td>Donauturm</td>\n",
       "      <td>17. Hernals</td>\n",
       "      <td>81</td>\n",
       "      <td>price for 1 night</td>\n",
       "      <td>...</td>\n",
       "      <td>_ACCOM_TYPE@Apartment</td>\n",
       "      <td>4.4 /5</td>\n",
       "      <td>1</td>\n",
       "      <td>21894</td>\n",
       "      <td>1</td>\n",
       "      <td>15-50% offer</td>\n",
       "      <td>2017</td>\n",
       "      <td>11</td>\n",
       "      <td>0</td>\n",
       "      <td>0</td>\n",
       "    </tr>\n",
       "    <tr>\n",
       "      <th>1</th>\n",
       "      <td>Austria</td>\n",
       "      <td>Vienna</td>\n",
       "      <td>189.0</td>\n",
       "      <td>1.7 miles</td>\n",
       "      <td>City centre</td>\n",
       "      <td>3.8 miles</td>\n",
       "      <td>Donauturm</td>\n",
       "      <td>17. Hernals</td>\n",
       "      <td>81</td>\n",
       "      <td>price for 1 night</td>\n",
       "      <td>...</td>\n",
       "      <td>_ACCOM_TYPE@Hotel</td>\n",
       "      <td>3.9 /5</td>\n",
       "      <td>0</td>\n",
       "      <td>21897</td>\n",
       "      <td>1</td>\n",
       "      <td>1-15% offer</td>\n",
       "      <td>2017</td>\n",
       "      <td>11</td>\n",
       "      <td>0</td>\n",
       "      <td>0</td>\n",
       "    </tr>\n",
       "    <tr>\n",
       "      <th>2</th>\n",
       "      <td>Austria</td>\n",
       "      <td>Vienna</td>\n",
       "      <td>53.0</td>\n",
       "      <td>1.4 miles</td>\n",
       "      <td>City centre</td>\n",
       "      <td>2.5 miles</td>\n",
       "      <td>Donauturm</td>\n",
       "      <td>Alsergrund</td>\n",
       "      <td>85</td>\n",
       "      <td>price for 1 night</td>\n",
       "      <td>...</td>\n",
       "      <td>_ACCOM_TYPE@Hotel</td>\n",
       "      <td>3.7 /5</td>\n",
       "      <td>0</td>\n",
       "      <td>21901</td>\n",
       "      <td>1</td>\n",
       "      <td>15-50% offer</td>\n",
       "      <td>2017</td>\n",
       "      <td>11</td>\n",
       "      <td>0</td>\n",
       "      <td>0</td>\n",
       "    </tr>\n",
       "    <tr>\n",
       "      <th>3</th>\n",
       "      <td>Austria</td>\n",
       "      <td>Vienna</td>\n",
       "      <td>55.0</td>\n",
       "      <td>1.7 miles</td>\n",
       "      <td>City centre</td>\n",
       "      <td>2.5 miles</td>\n",
       "      <td>Donauturm</td>\n",
       "      <td>Alsergrund</td>\n",
       "      <td>83</td>\n",
       "      <td>price for 1 night</td>\n",
       "      <td>...</td>\n",
       "      <td>_ACCOM_TYPE@Hotel</td>\n",
       "      <td>5-Apr</td>\n",
       "      <td>0</td>\n",
       "      <td>21902</td>\n",
       "      <td>1</td>\n",
       "      <td>15-50% offer</td>\n",
       "      <td>2017</td>\n",
       "      <td>11</td>\n",
       "      <td>0</td>\n",
       "      <td>0</td>\n",
       "    </tr>\n",
       "    <tr>\n",
       "      <th>4</th>\n",
       "      <td>Austria</td>\n",
       "      <td>Vienna</td>\n",
       "      <td>33.0</td>\n",
       "      <td>1.2 miles</td>\n",
       "      <td>City centre</td>\n",
       "      <td>2.8 miles</td>\n",
       "      <td>Donauturm</td>\n",
       "      <td>Alsergrund</td>\n",
       "      <td>82</td>\n",
       "      <td>price for 1 night</td>\n",
       "      <td>...</td>\n",
       "      <td>_ACCOM_TYPE@Hotel</td>\n",
       "      <td>3.9 /5</td>\n",
       "      <td>1</td>\n",
       "      <td>21903</td>\n",
       "      <td>1</td>\n",
       "      <td>15-50% offer</td>\n",
       "      <td>2017</td>\n",
       "      <td>11</td>\n",
       "      <td>0</td>\n",
       "      <td>0</td>\n",
       "    </tr>\n",
       "  </tbody>\n",
       "</table>\n",
       "<p>5 rows × 24 columns</p>\n",
       "</div>"
      ],
      "text/plain": [
       "  addresscountryname city_actual  rating_reviewcount center1distance  \\\n",
       "0            Austria      Vienna                36.0       2.7 miles   \n",
       "1            Austria      Vienna               189.0       1.7 miles   \n",
       "2            Austria      Vienna                53.0       1.4 miles   \n",
       "3            Austria      Vienna                55.0       1.7 miles   \n",
       "4            Austria      Vienna                33.0       1.2 miles   \n",
       "\n",
       "  center1label center2distance center2label neighbourhood  price  \\\n",
       "0  City centre       4.4 miles    Donauturm   17. Hernals     81   \n",
       "1  City centre       3.8 miles    Donauturm   17. Hernals     81   \n",
       "2  City centre       2.5 miles    Donauturm    Alsergrund     85   \n",
       "3  City centre       2.5 miles    Donauturm    Alsergrund     83   \n",
       "4  City centre       2.8 miles    Donauturm    Alsergrund     82   \n",
       "\n",
       "         price_night  ...      accommodationtype  guestreviewsrating  \\\n",
       "0  price for 1 night  ...  _ACCOM_TYPE@Apartment              4.4 /5   \n",
       "1  price for 1 night  ...      _ACCOM_TYPE@Hotel              3.9 /5   \n",
       "2  price for 1 night  ...      _ACCOM_TYPE@Hotel              3.7 /5   \n",
       "3  price for 1 night  ...      _ACCOM_TYPE@Hotel               5-Apr   \n",
       "4  price for 1 night  ...      _ACCOM_TYPE@Hotel              3.9 /5   \n",
       "\n",
       "   scarce_room  hotel_id offer     offer_cat  year  month  weekend holiday  \n",
       "0            1     21894     1  15-50% offer  2017     11        0       0  \n",
       "1            0     21897     1   1-15% offer  2017     11        0       0  \n",
       "2            0     21901     1  15-50% offer  2017     11        0       0  \n",
       "3            0     21902     1  15-50% offer  2017     11        0       0  \n",
       "4            1     21903     1  15-50% offer  2017     11        0       0  \n",
       "\n",
       "[5 rows x 24 columns]"
      ]
     },
     "execution_count": 4,
     "metadata": {},
     "output_type": "execute_result"
    }
   ],
   "source": [
    "#Displaying the first few rows of the dataset\n",
    "df.head()"
   ]
  },
  {
   "cell_type": "code",
   "execution_count": 5,
   "id": "6408d739",
   "metadata": {},
   "outputs": [
    {
     "name": "stdout",
     "output_type": "stream",
     "text": [
      "<class 'pandas.core.frame.DataFrame'>\n",
      "RangeIndex: 430 entries, 0 to 429\n",
      "Data columns (total 24 columns):\n",
      " #   Column                  Non-Null Count  Dtype  \n",
      "---  ------                  --------------  -----  \n",
      " 0   addresscountryname      430 non-null    object \n",
      " 1   city_actual             430 non-null    object \n",
      " 2   rating_reviewcount      395 non-null    float64\n",
      " 3   center1distance         430 non-null    object \n",
      " 4   center1label            430 non-null    object \n",
      " 5   center2distance         430 non-null    object \n",
      " 6   center2label            430 non-null    object \n",
      " 7   neighbourhood           430 non-null    object \n",
      " 8   price                   430 non-null    int64  \n",
      " 9   price_night             430 non-null    object \n",
      " 10  s_city                  430 non-null    object \n",
      " 11  starrating              430 non-null    float64\n",
      " 12  rating2_ta              327 non-null    float64\n",
      " 13  rating2_ta_reviewcount  327 non-null    float64\n",
      " 14  accommodationtype       430 non-null    object \n",
      " 15  guestreviewsrating      395 non-null    object \n",
      " 16  scarce_room             430 non-null    int64  \n",
      " 17  hotel_id                430 non-null    int64  \n",
      " 18  offer                   430 non-null    int64  \n",
      " 19  offer_cat               430 non-null    object \n",
      " 20  year                    430 non-null    int64  \n",
      " 21  month                   430 non-null    int64  \n",
      " 22  weekend                 430 non-null    int64  \n",
      " 23  holiday                 430 non-null    int64  \n",
      "dtypes: float64(4), int64(8), object(12)\n",
      "memory usage: 80.8+ KB\n"
     ]
    }
   ],
   "source": [
    "df.info()"
   ]
  },
  {
   "cell_type": "code",
   "execution_count": 6,
   "id": "78a4e1a4",
   "metadata": {},
   "outputs": [
    {
     "data": {
      "application/vnd.microsoft.datawrangler.viewer.v0+json": {
       "columns": [
        {
         "name": "index",
         "rawType": "object",
         "type": "string"
        },
        {
         "name": "rating_reviewcount",
         "rawType": "float64",
         "type": "float"
        },
        {
         "name": "price",
         "rawType": "float64",
         "type": "float"
        },
        {
         "name": "starrating",
         "rawType": "float64",
         "type": "float"
        },
        {
         "name": "rating2_ta",
         "rawType": "float64",
         "type": "float"
        },
        {
         "name": "rating2_ta_reviewcount",
         "rawType": "float64",
         "type": "float"
        },
        {
         "name": "scarce_room",
         "rawType": "float64",
         "type": "float"
        },
        {
         "name": "hotel_id",
         "rawType": "float64",
         "type": "float"
        },
        {
         "name": "offer",
         "rawType": "float64",
         "type": "float"
        },
        {
         "name": "year",
         "rawType": "float64",
         "type": "float"
        },
        {
         "name": "month",
         "rawType": "float64",
         "type": "float"
        },
        {
         "name": "weekend",
         "rawType": "float64",
         "type": "float"
        },
        {
         "name": "holiday",
         "rawType": "float64",
         "type": "float"
        }
       ],
       "ref": "0cf68a54-1b90-4287-a5d6-b98ac89bc4e3",
       "rows": [
        [
         "count",
         "395.0",
         "430.0",
         "430.0",
         "327.0",
         "327.0",
         "430.0",
         "430.0",
         "430.0",
         "430.0",
         "430.0",
         "430.0",
         "430.0"
        ],
        [
         "mean",
         "155.29367088607594",
         "131.5139534883721",
         "3.4348837209302325",
         "3.992354740061162",
         "560.0152905198777",
         "0.5976744186046512",
         "22153.33488372093",
         "0.6790697674418604",
         "2017.0",
         "11.0",
         "0.0",
         "0.0"
        ],
        [
         "std",
         "191.2966835905266",
         "91.55126980540206",
         "0.7712441802148379",
         "0.48197856165619535",
         "592.3635897528383",
         "0.49093810209637273",
         "146.60873334051897",
         "0.46737781621851177",
         "0.0",
         "0.0",
         "0.0",
         "0.0"
        ],
        [
         "min",
         "1.0",
         "27.0",
         "1.0",
         "2.0",
         "2.0",
         "0.0",
         "21894.0",
         "0.0",
         "2017.0",
         "11.0",
         "0.0",
         "0.0"
        ],
        [
         "25%",
         "26.5",
         "83.0",
         "3.0",
         "3.5",
         "128.0",
         "0.0",
         "22028.25",
         "0.0",
         "2017.0",
         "11.0",
         "0.0",
         "0.0"
        ],
        [
         "50%",
         "84.0",
         "109.5",
         "3.5",
         "4.0",
         "335.0",
         "1.0",
         "22155.5",
         "1.0",
         "2017.0",
         "11.0",
         "0.0",
         "0.0"
        ],
        [
         "75%",
         "203.0",
         "146.0",
         "4.0",
         "4.5",
         "813.5",
         "1.0",
         "22278.5",
         "1.0",
         "2017.0",
         "11.0",
         "0.0",
         "0.0"
        ],
        [
         "max",
         "1541.0",
         "1012.0",
         "5.0",
         "5.0",
         "3171.0",
         "1.0",
         "22409.0",
         "1.0",
         "2017.0",
         "11.0",
         "0.0",
         "0.0"
        ]
       ],
       "shape": {
        "columns": 12,
        "rows": 8
       }
      },
      "text/html": [
       "<div>\n",
       "<style scoped>\n",
       "    .dataframe tbody tr th:only-of-type {\n",
       "        vertical-align: middle;\n",
       "    }\n",
       "\n",
       "    .dataframe tbody tr th {\n",
       "        vertical-align: top;\n",
       "    }\n",
       "\n",
       "    .dataframe thead th {\n",
       "        text-align: right;\n",
       "    }\n",
       "</style>\n",
       "<table border=\"1\" class=\"dataframe\">\n",
       "  <thead>\n",
       "    <tr style=\"text-align: right;\">\n",
       "      <th></th>\n",
       "      <th>rating_reviewcount</th>\n",
       "      <th>price</th>\n",
       "      <th>starrating</th>\n",
       "      <th>rating2_ta</th>\n",
       "      <th>rating2_ta_reviewcount</th>\n",
       "      <th>scarce_room</th>\n",
       "      <th>hotel_id</th>\n",
       "      <th>offer</th>\n",
       "      <th>year</th>\n",
       "      <th>month</th>\n",
       "      <th>weekend</th>\n",
       "      <th>holiday</th>\n",
       "    </tr>\n",
       "  </thead>\n",
       "  <tbody>\n",
       "    <tr>\n",
       "      <th>count</th>\n",
       "      <td>395.000000</td>\n",
       "      <td>430.000000</td>\n",
       "      <td>430.000000</td>\n",
       "      <td>327.000000</td>\n",
       "      <td>327.000000</td>\n",
       "      <td>430.000000</td>\n",
       "      <td>430.000000</td>\n",
       "      <td>430.000000</td>\n",
       "      <td>430.0</td>\n",
       "      <td>430.0</td>\n",
       "      <td>430.0</td>\n",
       "      <td>430.0</td>\n",
       "    </tr>\n",
       "    <tr>\n",
       "      <th>mean</th>\n",
       "      <td>155.293671</td>\n",
       "      <td>131.513953</td>\n",
       "      <td>3.434884</td>\n",
       "      <td>3.992355</td>\n",
       "      <td>560.015291</td>\n",
       "      <td>0.597674</td>\n",
       "      <td>22153.334884</td>\n",
       "      <td>0.679070</td>\n",
       "      <td>2017.0</td>\n",
       "      <td>11.0</td>\n",
       "      <td>0.0</td>\n",
       "      <td>0.0</td>\n",
       "    </tr>\n",
       "    <tr>\n",
       "      <th>std</th>\n",
       "      <td>191.296684</td>\n",
       "      <td>91.551270</td>\n",
       "      <td>0.771244</td>\n",
       "      <td>0.481979</td>\n",
       "      <td>592.363590</td>\n",
       "      <td>0.490938</td>\n",
       "      <td>146.608733</td>\n",
       "      <td>0.467378</td>\n",
       "      <td>0.0</td>\n",
       "      <td>0.0</td>\n",
       "      <td>0.0</td>\n",
       "      <td>0.0</td>\n",
       "    </tr>\n",
       "    <tr>\n",
       "      <th>min</th>\n",
       "      <td>1.000000</td>\n",
       "      <td>27.000000</td>\n",
       "      <td>1.000000</td>\n",
       "      <td>2.000000</td>\n",
       "      <td>2.000000</td>\n",
       "      <td>0.000000</td>\n",
       "      <td>21894.000000</td>\n",
       "      <td>0.000000</td>\n",
       "      <td>2017.0</td>\n",
       "      <td>11.0</td>\n",
       "      <td>0.0</td>\n",
       "      <td>0.0</td>\n",
       "    </tr>\n",
       "    <tr>\n",
       "      <th>25%</th>\n",
       "      <td>26.500000</td>\n",
       "      <td>83.000000</td>\n",
       "      <td>3.000000</td>\n",
       "      <td>3.500000</td>\n",
       "      <td>128.000000</td>\n",
       "      <td>0.000000</td>\n",
       "      <td>22028.250000</td>\n",
       "      <td>0.000000</td>\n",
       "      <td>2017.0</td>\n",
       "      <td>11.0</td>\n",
       "      <td>0.0</td>\n",
       "      <td>0.0</td>\n",
       "    </tr>\n",
       "    <tr>\n",
       "      <th>50%</th>\n",
       "      <td>84.000000</td>\n",
       "      <td>109.500000</td>\n",
       "      <td>3.500000</td>\n",
       "      <td>4.000000</td>\n",
       "      <td>335.000000</td>\n",
       "      <td>1.000000</td>\n",
       "      <td>22155.500000</td>\n",
       "      <td>1.000000</td>\n",
       "      <td>2017.0</td>\n",
       "      <td>11.0</td>\n",
       "      <td>0.0</td>\n",
       "      <td>0.0</td>\n",
       "    </tr>\n",
       "    <tr>\n",
       "      <th>75%</th>\n",
       "      <td>203.000000</td>\n",
       "      <td>146.000000</td>\n",
       "      <td>4.000000</td>\n",
       "      <td>4.500000</td>\n",
       "      <td>813.500000</td>\n",
       "      <td>1.000000</td>\n",
       "      <td>22278.500000</td>\n",
       "      <td>1.000000</td>\n",
       "      <td>2017.0</td>\n",
       "      <td>11.0</td>\n",
       "      <td>0.0</td>\n",
       "      <td>0.0</td>\n",
       "    </tr>\n",
       "    <tr>\n",
       "      <th>max</th>\n",
       "      <td>1541.000000</td>\n",
       "      <td>1012.000000</td>\n",
       "      <td>5.000000</td>\n",
       "      <td>5.000000</td>\n",
       "      <td>3171.000000</td>\n",
       "      <td>1.000000</td>\n",
       "      <td>22409.000000</td>\n",
       "      <td>1.000000</td>\n",
       "      <td>2017.0</td>\n",
       "      <td>11.0</td>\n",
       "      <td>0.0</td>\n",
       "      <td>0.0</td>\n",
       "    </tr>\n",
       "  </tbody>\n",
       "</table>\n",
       "</div>"
      ],
      "text/plain": [
       "       rating_reviewcount        price  starrating  rating2_ta  \\\n",
       "count          395.000000   430.000000  430.000000  327.000000   \n",
       "mean           155.293671   131.513953    3.434884    3.992355   \n",
       "std            191.296684    91.551270    0.771244    0.481979   \n",
       "min              1.000000    27.000000    1.000000    2.000000   \n",
       "25%             26.500000    83.000000    3.000000    3.500000   \n",
       "50%             84.000000   109.500000    3.500000    4.000000   \n",
       "75%            203.000000   146.000000    4.000000    4.500000   \n",
       "max           1541.000000  1012.000000    5.000000    5.000000   \n",
       "\n",
       "       rating2_ta_reviewcount  scarce_room      hotel_id       offer    year  \\\n",
       "count              327.000000   430.000000    430.000000  430.000000   430.0   \n",
       "mean               560.015291     0.597674  22153.334884    0.679070  2017.0   \n",
       "std                592.363590     0.490938    146.608733    0.467378     0.0   \n",
       "min                  2.000000     0.000000  21894.000000    0.000000  2017.0   \n",
       "25%                128.000000     0.000000  22028.250000    0.000000  2017.0   \n",
       "50%                335.000000     1.000000  22155.500000    1.000000  2017.0   \n",
       "75%                813.500000     1.000000  22278.500000    1.000000  2017.0   \n",
       "max               3171.000000     1.000000  22409.000000    1.000000  2017.0   \n",
       "\n",
       "       month  weekend  holiday  \n",
       "count  430.0    430.0    430.0  \n",
       "mean    11.0      0.0      0.0  \n",
       "std      0.0      0.0      0.0  \n",
       "min     11.0      0.0      0.0  \n",
       "25%     11.0      0.0      0.0  \n",
       "50%     11.0      0.0      0.0  \n",
       "75%     11.0      0.0      0.0  \n",
       "max     11.0      0.0      0.0  "
      ]
     },
     "execution_count": 6,
     "metadata": {},
     "output_type": "execute_result"
    }
   ],
   "source": [
    "#Summary statistics\n",
    "df.describe()"
   ]
  },
  {
   "cell_type": "code",
   "execution_count": 7,
   "id": "1dc5b01d",
   "metadata": {},
   "outputs": [
    {
     "data": {
      "application/vnd.microsoft.datawrangler.viewer.v0+json": {
       "columns": [
        {
         "name": "index",
         "rawType": "object",
         "type": "string"
        },
        {
         "name": "0",
         "rawType": "int64",
         "type": "integer"
        }
       ],
       "ref": "745ed62b-fd9c-44fa-9f8d-a7458b539de3",
       "rows": [
        [
         "addresscountryname",
         "0"
        ],
        [
         "city_actual",
         "0"
        ],
        [
         "rating_reviewcount",
         "35"
        ],
        [
         "center1distance",
         "0"
        ],
        [
         "center1label",
         "0"
        ],
        [
         "center2distance",
         "0"
        ],
        [
         "center2label",
         "0"
        ],
        [
         "neighbourhood",
         "0"
        ],
        [
         "price",
         "0"
        ],
        [
         "price_night",
         "0"
        ],
        [
         "s_city",
         "0"
        ],
        [
         "starrating",
         "0"
        ],
        [
         "rating2_ta",
         "103"
        ],
        [
         "rating2_ta_reviewcount",
         "103"
        ],
        [
         "accommodationtype",
         "0"
        ],
        [
         "guestreviewsrating",
         "35"
        ],
        [
         "scarce_room",
         "0"
        ],
        [
         "hotel_id",
         "0"
        ],
        [
         "offer",
         "0"
        ],
        [
         "offer_cat",
         "0"
        ],
        [
         "year",
         "0"
        ],
        [
         "month",
         "0"
        ],
        [
         "weekend",
         "0"
        ],
        [
         "holiday",
         "0"
        ]
       ],
       "shape": {
        "columns": 1,
        "rows": 24
       }
      },
      "text/plain": [
       "addresscountryname          0\n",
       "city_actual                 0\n",
       "rating_reviewcount         35\n",
       "center1distance             0\n",
       "center1label                0\n",
       "center2distance             0\n",
       "center2label                0\n",
       "neighbourhood               0\n",
       "price                       0\n",
       "price_night                 0\n",
       "s_city                      0\n",
       "starrating                  0\n",
       "rating2_ta                103\n",
       "rating2_ta_reviewcount    103\n",
       "accommodationtype           0\n",
       "guestreviewsrating         35\n",
       "scarce_room                 0\n",
       "hotel_id                    0\n",
       "offer                       0\n",
       "offer_cat                   0\n",
       "year                        0\n",
       "month                       0\n",
       "weekend                     0\n",
       "holiday                     0\n",
       "dtype: int64"
      ]
     },
     "execution_count": 7,
     "metadata": {},
     "output_type": "execute_result"
    }
   ],
   "source": [
    "# Checking for missing values\n",
    "df.isna().sum()"
   ]
  },
  {
   "cell_type": "code",
   "execution_count": 8,
   "id": "b0338990",
   "metadata": {},
   "outputs": [
    {
     "data": {
      "application/vnd.microsoft.datawrangler.viewer.v0+json": {
       "columns": [
        {
         "name": "index",
         "rawType": "object",
         "type": "string"
        },
        {
         "name": "0",
         "rawType": "int64",
         "type": "integer"
        }
       ],
       "ref": "cb487391-b398-4970-bdd1-94f269659a64",
       "rows": [
        [
         "addresscountryname",
         "0"
        ],
        [
         "city_actual",
         "0"
        ],
        [
         "rating_reviewcount",
         "0"
        ],
        [
         "center1distance",
         "0"
        ],
        [
         "center1label",
         "0"
        ],
        [
         "center2distance",
         "0"
        ],
        [
         "center2label",
         "0"
        ],
        [
         "neighbourhood",
         "0"
        ],
        [
         "price",
         "0"
        ],
        [
         "price_night",
         "0"
        ],
        [
         "s_city",
         "0"
        ],
        [
         "starrating",
         "0"
        ],
        [
         "rating2_ta",
         "71"
        ],
        [
         "rating2_ta_reviewcount",
         "71"
        ],
        [
         "accommodationtype",
         "0"
        ],
        [
         "guestreviewsrating",
         "0"
        ],
        [
         "scarce_room",
         "0"
        ],
        [
         "hotel_id",
         "0"
        ],
        [
         "offer",
         "0"
        ],
        [
         "offer_cat",
         "0"
        ],
        [
         "year",
         "0"
        ],
        [
         "month",
         "0"
        ],
        [
         "weekend",
         "0"
        ],
        [
         "holiday",
         "0"
        ]
       ],
       "shape": {
        "columns": 1,
        "rows": 24
       }
      },
      "text/plain": [
       "addresscountryname         0\n",
       "city_actual                0\n",
       "rating_reviewcount         0\n",
       "center1distance            0\n",
       "center1label               0\n",
       "center2distance            0\n",
       "center2label               0\n",
       "neighbourhood              0\n",
       "price                      0\n",
       "price_night                0\n",
       "s_city                     0\n",
       "starrating                 0\n",
       "rating2_ta                71\n",
       "rating2_ta_reviewcount    71\n",
       "accommodationtype          0\n",
       "guestreviewsrating         0\n",
       "scarce_room                0\n",
       "hotel_id                   0\n",
       "offer                      0\n",
       "offer_cat                  0\n",
       "year                       0\n",
       "month                      0\n",
       "weekend                    0\n",
       "holiday                    0\n",
       "dtype: int64"
      ]
     },
     "execution_count": 8,
     "metadata": {},
     "output_type": "execute_result"
    }
   ],
   "source": [
    "#Droping rating_review missing values and checking again \n",
    "df = df.dropna(subset=['rating_reviewcount'])\n",
    "df.isna().sum()"
   ]
  },
  {
   "cell_type": "code",
   "execution_count": null,
   "id": "4970dd66",
   "metadata": {},
   "outputs": [
    {
     "data": {
      "image/png": "[encoded data removed]",
      "text/plain": [
       "<Figure size 800x600 with 1 Axes>"
      ]
     },
     "metadata": {},
     "output_type": "display_data"
    }
   ],
   "source": [
    "#Relationship between price and star rating\n",
    "plt.figure(figsize=(8,6))\n",
    "\n",
    "plt.scatter(df['price'], df['starrating'], alpha=0.6, edgecolor='k', s=60)\n",
    "\n",
    "plt.xlabel('Price (EUR)', fontsize=12)\n",
    "plt.ylabel('Star Rating', fontsize=12)\n",
    "plt.title('Relationship between Hotel Price and Star Rating in Vienna', fontsize=14, fontweight='bold')\n",
    "\n",
    "plt.grid(True, linestyle='--', alpha=0.4)\n",
    "plt.xlim(0, df['price'].quantile(0.95))  # removes extreme outliers\n",
    "plt.ylim(0.5, 5.5)\n",
    "plt.show()\n"
   ]
  },
  {
   "cell_type": "code",
   "execution_count": 19,
   "id": "fe785301",
   "metadata": {},
   "outputs": [
    {
     "data": {
      "image/png": "[encoded data removed]",
      "text/plain": [
       "<Figure size 800x600 with 1 Axes>"
      ]
     },
     "metadata": {},
     "output_type": "display_data"
    }
   ],
   "source": [
    "\n",
    "#Relationship between price and distance from city center\n",
    "\n",
    "plt.figure(figsize=(8,6))\n",
    "plt.scatter(df['center1distance'], df['price'], alpha=0.6)\n",
    "plt.xlabel('Distance from City Center (km)', fontsize=12)\n",
    "plt.ylabel('Price (EUR)', fontsize=12)\n",
    "plt.title('Relationship between Hotel Price and Distance from City Center', fontsize=14, fontweight='bold')\n",
    "plt.grid(True, linestyle='--', alpha=0.4)\n",
    "plt.show()\n"
   ]
  },
  {
   "cell_type": "code",
   "execution_count": null,
   "id": "2fee443f",
   "metadata": {},
   "outputs": [],
   "source": []
  }
 ],
 "metadata": {
  "kernelspec": {
   "display_name": "base",
   "language": "python",
   "name": "python3"
  },
  "language_info": {
   "codemirror_mode": {
    "name": "ipython",
    "version": 3
   },
   "file_extension": ".py",
   "mimetype": "text/x-python",
   "name": "python",
   "nbconvert_exporter": "python",
   "pygments_lexer": "ipython3",
   "version": "3.13.5"
  }
 },
 "nbformat": 4,
 "nbformat_minor": 5
}
